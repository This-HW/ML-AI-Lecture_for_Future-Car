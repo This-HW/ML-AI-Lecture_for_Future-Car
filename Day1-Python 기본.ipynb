{
 "cells": [
  {
   "cell_type": "code",
   "execution_count": null,
   "metadata": {},
   "outputs": [],
   "source": [
    "# Big Data\n",
    "# 일반적으로는 데이터 크기가 큰 데이터\n",
    "\n",
    "# Big Data의 정의\n",
    "# 3V\n",
    "# Volumn(데이터의 양) => 데이터의 크기가 아주 큰 데이터\n",
    "# Variety(다양성) => 데이터의 다양성\n",
    "# Velocity(속도) => 데이터 발생 속도\n",
    "\n",
    "# 빅데이터 분석\n",
    "# EDA(탐색적 데이터 분석) => 데이터 분석의 가장 기본\n",
    "#   -> 사실(data)를 바탕으로 그 안에 내재된 내용을 알아내는 것\n",
    "#   -> 통계적 가설검증(statistical hyphotheisis testing) 사용 _ (일원분석, 이원분석, 아노바 등..)\n",
    "\n",
    "# Machine Learning => prediction\n",
    "#   : 기존에 있는 데이터를 바탕으로 학습하는것 _ 여기부터는 예측(prediction)이 들어간다.\n",
    "\n",
    "# Deep learing\n"
   ]
  },
  {
   "cell_type": "markdown",
   "metadata": {},
   "source": [
    "# Day1, Python 기본\n",
    "----\n",
    "## Python 기본 특징 (Data type)\n",
    "\n",
    "1. python 의 주석은 # 으로 표현한다.\n",
    "2. python의 사용되는 contant 는 True, Flalse, None\n",
    "3. python은 week type 언어\n",
    "    * week type? 데이터의 type을 선언하지 않는 언어.\n",
    "4. text sequence type\n",
    "    -> 문자개념이 없다. 모두 문자다!\n",
    "5. 배열이 없다.\n",
    "    * Indexing은 있다.\n",
    "    * slicing도 있다"
   ]
  },
  {
   "cell_type": "code",
   "execution_count": 7,
   "metadata": {},
   "outputs": [
    {
     "name": "stdout",
     "output_type": "stream",
     "text": [
      "t\n",
      "x\n",
      "s is\n",
      "나는 사과를 100개 가지고 있어요!\n"
     ]
    }
   ],
   "source": [
    "var7 = \"this is a simple text\"\n",
    "\n",
    "# idnexing\n",
    "print(var7[0]) # indexing\n",
    "print(var7[-2]) # 뒤쪽부터 인덱싱 할 수 있다.\n",
    "\n",
    "# slicing: 일정 부분을 인덱싱 할 수 있다.\n",
    "print(var7[3:7]) # slicing\n",
    "      \n",
    "var8 = \"나는 사과를 {}개 가지고 있어요!\"\n",
    "print(var8.format(100))"
   ]
  },
  {
   "cell_type": "markdown",
   "metadata": {},
   "source": [
    "---\n",
    "## Python 기본 특징 (Data structure)\n",
    "1. list\n",
    "    * Python은 배열이 없고 list를 사용한다.\n",
    "    * []로 표현한다.\n",
    "    * 모든 형태의 데이터 표현이 다 가능하다.\n",
    "    * indexing, slice 모두 사용 가능하다.\n",
    "    * __(주의) list의 덧셈과 곱셈은 리스트의 (길이) 증가한다.__\n",
    "    \n",
    "    \n",
    "2. Tuple\n",
    "    * 파이썬에만 있는 자료형이다.\n",
    "    * 수정이 불가능하다는 점을 제외하고 리스트와 거의 동일하다. (Read only)\n",
    "    * ()로 표현한다.\n",
    "    * 원소가 하나인 경우 꼭 .을 찍어줘야 한다.\n",
    "    * 변경되면 안 되는 변수에 선언하면 효과적이다.\n",
    "    * __괄호를 생략하고 여러개의 원소를 선언한 자료형은 튜플이다.__\n",
    "    \n",
    "    \n",
    "3. Range\n",
    "    * 범위형 자료형이다.\n",
    "    * For문과 함께 사용되는 것이 일반적\n",
    "    \n",
    "    \n",
    "4. Dictionary\n",
    "    * Hashmap. Key와 value로 이루어진 자료구조\n",
    "    * 한마디로 하면 Json\n",
    "    * {}를 이용하여 key와 value의 쌍으로 데이터를 표현\n",
    "    * 자료의 순서가 없다.\n",
    "    \n",
    "    \n",
    "5. Set\n",
    "    * Dictionary와 같이 {}로 표현한다.\n",
    "    * Key, Value로 표현하지 않는다는 점이 Dictionary와 다르다."
   ]
  },
  {
   "cell_type": "code",
   "execution_count": 18,
   "metadata": {},
   "outputs": [
    {
     "name": "stdout",
     "output_type": "stream",
     "text": [
      "[1, 2, 3, 4, 5, 6]\n",
      "[1, 2, 3, 1, 2, 3, 1, 2, 3]\n"
     ]
    }
   ],
   "source": [
    "# 1. LIst\n",
    "# ()로 표현한다.\n",
    "list_1 = [1, 3.14, 'Hello']\n",
    "# indexing과 slicing 모두 사용 가능\n",
    "list_1 = [1, 2, 3]\n",
    "list_2 = [4, 5, 6]\n",
    "\n",
    "# list 연결\n",
    "print(list_1 + list_2) # 리스트의 덧셈은 연결이다.\n",
    "print(list_1 * 3) # 리스트의 곱셈은 연결이다.\n",
    "\n",
    "# ------------------------------\n",
    "\n",
    "# 2. Tuple\n",
    "# ()로 표현한다.\n",
    "tuple_1 = (1,2,3,4,5)\n",
    "tuple_2 = (1.) # 원소가 1개인 tuple\n",
    "\n",
    "# 괄호 생략 가능\n",
    "tuple_3 = 1, 2, 3, 4 # 괄호를 생략 할 수 있다!\n",
    "\n",
    "# ------------------------------\n",
    "\n",
    "# 3. Range\n",
    "# (for문과 함께 사용되는 게 일반적이다.)\n",
    "range_1 = range(10)\n",
    "range_2 = range(1, 15, 2)\n",
    "\n",
    "# ------------------------------\n",
    "\n",
    "# 4. Dictionary\n",
    "dict_1 = {'name' : '홍길동', 'age' : 20}\n",
    "\n",
    "# ------------------------------\n",
    "\n",
    "# 4. Set\n",
    "set_1 = {1, 2, 3, 4, 5}\n"
   ]
  },
  {
   "cell_type": "markdown",
   "metadata": {},
   "source": [
    "---\n",
    "## Python 기본 특징 (제어문)\n",
    "\n",
    "1. python은 제어문(if, for 등)의 block을 표현할 때 __{}을 이용하지 않는다.__\n",
    "    * __indent(들여쓰기)__를 이용해서 block을 표현\n",
    "    * indent값의 Default는 띄어쓰기(space) 네개이다.\n",
    "    \n",
    "    \n",
    "2. If - elif - else\n",
    "\n",
    "\n",
    "3. for"
   ]
  },
  {
   "cell_type": "code",
   "execution_count": 21,
   "metadata": {},
   "outputs": [
    {
     "name": "stdout",
     "output_type": "stream",
     "text": [
      "a가 10보다 커요!\n"
     ]
    }
   ],
   "source": [
    "a = 20\n",
    "\n",
    "if a > 10:\n",
    "    print(\"a가 10보다 커요!\") # indent를 통해 if의 범위가 설정된다.\n",
    "elif a > 5:\n",
    "    print(\"a가 5보다 커요!\") # 두번째 block도 indent를 이용해 구별한다.\n",
    "else :\n",
    "    print(\"!!!!!\")  # 두번째 block도 indent를 이용해 구별한다."
   ]
  },
  {
   "cell_type": "code",
   "execution_count": 24,
   "metadata": {},
   "outputs": [
    {
     "ename": "IndentationError",
     "evalue": "unexpected indent (<ipython-input-24-f1cf15a811a0>, line 2)",
     "output_type": "error",
     "traceback": [
      "\u001b[1;36m  File \u001b[1;32m\"<ipython-input-24-f1cf15a811a0>\"\u001b[1;36m, line \u001b[1;32m2\u001b[0m\n\u001b[1;33m    b = 20\u001b[0m\n\u001b[1;37m    ^\u001b[0m\n\u001b[1;31mIndentationError\u001b[0m\u001b[1;31m:\u001b[0m unexpected indent\n"
     ]
    }
   ],
   "source": [
    "a= 20\n",
    "  b = 20  # python은 이렇게 indent를 잘못하면 오류가 난다.\n",
    "c= 10"
   ]
  },
  {
   "cell_type": "code",
   "execution_count": 26,
   "metadata": {},
   "outputs": [
    {
     "name": "stdout",
     "output_type": "stream",
     "text": [
      "서울\n",
      "인천\n",
      "부산\n"
     ]
    }
   ],
   "source": [
    "# For 구문\n",
    "my_list = ['서울', '인천', '부산']\n",
    "for tmp in my_list:\n",
    "    print(tmp)    "
   ]
  },
  {
   "cell_type": "markdown",
   "metadata": {},
   "source": [
    "---\n",
    "## 이후 파이썬 공부 순서\n",
    "\n",
    "1. 내장함수, 사용자 정의 함수\n",
    "\n",
    "\n",
    "2. 객체지향 (class와 instance)\n",
    "\n",
    "\n",
    "3. module & package\n",
    "    * 웹프로그래밍 : 파이썬 장고\n",
    "    * 데이터 분석 : numpy, pandas"
   ]
  },
  {
   "cell_type": "markdown",
   "metadata": {},
   "source": [
    "---\n",
    "## 기본 Library _ for _ Data Analysis\n",
    "\n",
    "\n",
    "1. Numpy : 수치계산을 위한 python library (벡터, 행렬, 매트릭스 등)   _+ Pandas의 기본 자료구조_\n",
    "\n",
    "\n",
    "2. __Pandas__ : Python에서 데이터분석을 위한 핵심 라이브러리이다. (여러 분석 툴 포함)\n",
    "\n",
    "\n",
    "3. Matplotlib(seaborn) : 그래프를 그리는 기본 라이브러리이다. (데이터분석에서 시각화는 중요하다.)\n",
    "\n",
    "\n",
    "\n"
   ]
  },
  {
   "cell_type": "markdown",
   "metadata": {},
   "source": [
    "---\n",
    "## Numpy\n",
    "### Numpy : Numerical python\n",
    "### 특징\n",
    "1. Vector와 Matrix연산에 최적화\n",
    "2. Pandas와 Matplotlib에서 사용되는 기본 자료구조\n",
    "3. Numpy는 n-dimensional arrya -> ndarray\n",
    "4. ndarray 는 배열이기 때문에 같은 데이터 타입만 사용가능"
   ]
  },
  {
   "cell_type": "code",
   "execution_count": 49,
   "metadata": {},
   "outputs": [
    {
     "name": "stdout",
     "output_type": "stream",
     "text": [
      "python 의 리스트 :  [1, 2, 3, 4]\n",
      "ndarray :  [1 2 3 4]\n",
      "ndarray :  [1.  2.  3.  4.1]  -> 정수형이 실수형으로 변환되어 저장된다.\n",
      "\n",
      "ndarray :  [[1 2 3]\n",
      " [4 5 6]]  -> 2차원 ndarray ( matirx ) \n",
      "\n",
      "ndarray :  [[1. 2. 3.]\n",
      " [4. 5. 6.]]  -> 64비트 float형 2차원 ndarray -> matirx\n",
      "\n",
      "b4.shape :  (2, 3)  -> 2차원, 각 차원에 3개의 데이터\n",
      "\n"
     ]
    }
   ],
   "source": [
    "import numpy as np\n",
    "\n",
    "a = [1, 2, 3, 4] # python 의 list\n",
    "b = np.array([1, 2, 3, 4]) # ndarray\n",
    "\n",
    "print(\"python 의 리스트 : \",a)\n",
    "print(\"ndarray : \",b) \n",
    "\n",
    "b2 = np.array([1, 2, 3.0, 4.1 ]) # ndarray에서 자료형을 섞어서 정의한다면\n",
    "print(\"ndarray : \", b2, \" -> 정수형이 실수형으로 변환되어 저장된다.\\n\")\n",
    "\n",
    "b3 = np.array([[1, 2, 3], [4, 5, 6]])\n",
    "print(\"ndarray : \", b3, \" -> 2차원 ndarray ( matirx ) \\n\")\n",
    "\n",
    "b4 = np.array([[1, 2, 3], [4, 5, 6]], dtype = np.float64)\n",
    "print(\"ndarray : \", b4, \" -> 64비트 float형 2차원 ndarray -> matirx\\n\")\n",
    "\n",
    "print(\"b4.shape : \", b4.shape, \" -> 2차원, 각 차원에 3개의 데이터\\n\")\n",
    "# shape는 튜플 형태로으로 반환된다.\n",
    "# 반환값은 ( 몇 차원인지, 각 차원의 데이터 수 ) 를 나타낸다.\n"
   ]
  },
  {
   "cell_type": "code",
   "execution_count": 51,
   "metadata": {},
   "outputs": [],
   "source": [
    "# numpy를 이용한 난수발생\n",
    "# 1. 정규분포를 이용해서 난수 발생\n",
    "#   * 정규분포가 중요한 이유 : 대부분의 자연현상(일상)이 정규분포를 따른다.\n",
    "\n",
    "import numpy as np\n",
    "import matplotlib.pyplot as plt"
   ]
  },
  {
   "cell_type": "code",
   "execution_count": 71,
   "metadata": {},
   "outputs": [
    {
     "name": "stdout",
     "output_type": "stream",
     "text": [
      "[ 0.70749481  0.12783303 -0.13543292 ...  0.95443254  1.59102579\n",
      " -0.22956929]\n"
     ]
    },
    {
     "data": {
      "image/png": "[encoded data removed]",
      "text/plain": [
       "<Figure size 432x288 with 1 Axes>"
      ]
     },
     "metadata": {
      "needs_background": "light"
     },
     "output_type": "display_data"
    }
   ],
   "source": [
    "# 정규분포 => 평균, 표준편차\n",
    "tmp_mean = 0\n",
    "tmp_std = 1\n",
    "\n",
    "arr = np.random.normal(tmp_mean, tmp_std, (10000,)) # 난수생성 함수는 튜플 형태로 인수를 받는다.\n",
    "# 여기에서는 10000개의 난수 생성\n",
    "# arr = np.random.normal(tmp_mean, tmp_std, (10000, 20)) -> 이건 10000행 20열의 난수를 생성한다는 것.\n",
    "print(arr) # 너무 많아서 ... 으로 생략되서 나온다.\n",
    "\n",
    "plt.hist(arr, bins = 100) # 100개의 범위로 히스토그램 생성\n",
    "plt.show()"
   ]
  },
  {
   "cell_type": "code",
   "execution_count": 146,
   "metadata": {},
   "outputs": [
    {
     "data": {
      "image/png": "[encoded data removed]",
      "text/plain": [
       "<Figure size 432x288 with 1 Axes>"
      ]
     },
     "metadata": {
      "needs_background": "light"
     },
     "output_type": "display_data"
    },
    {
     "data": {
      "image/png": "[encoded data removed]",
      "text/plain": [
       "<Figure size 432x288 with 1 Axes>"
      ]
     },
     "metadata": {
      "needs_background": "light"
     },
     "output_type": "display_data"
    }
   ],
   "source": [
    "# 균등분포\n",
    "# 균등분포의 범위 : [0, 1]\n",
    "arr2 = np.random.rand(10000) # 10000개의 균등분포를 뽑는다.\n",
    "plt.hist(arr2, bins=100)\n",
    "plt.show()\n",
    "\n",
    "arr2 = np.random.rand(1000000) # 더 균등한 분포를 보기 위해 1000000개의 균등분포를 뽑는다.\n",
    "plt.hist(arr2, bins=100)\n",
    "plt.show()"
   ]
  },
  {
   "cell_type": "code",
   "execution_count": 84,
   "metadata": {},
   "outputs": [
    {
     "name": "stdout",
     "output_type": "stream",
     "text": [
      "[ 0  1  2  3  4  5  6  7  8  9 10 11]\n",
      "[[ 0  1  2]\n",
      " [ 3  4  5]\n",
      " [ 6  7  8]\n",
      " [ 9 10 11]]\n",
      "[[100   1   2]\n",
      " [  3   4   5]\n",
      " [  6   7   8]\n",
      " [  9  10  11]]\n",
      "[100   1   2   3   4   5   6   7   8   9  10  11]\n"
     ]
    }
   ],
   "source": [
    "# Ndarray 특징\n",
    "# ndarray는 형태를 마음대로 변형시킬 수 있다.\n",
    "import numpy as np\n",
    "arr = np.arange(0, 12, 1) # range형태로 변수입력\n",
    "print(arr) # 1차원의 ndarry\n",
    "\n",
    "arr1 = arr.reshape(4, 3) # 4행 3열로 바꾸는 명령어 reshape\n",
    "print(arr1) # 2차원의 ndarray로 변환됐다.\n",
    "\n",
    "arr1[0,0]  = 100 # 1,1에 100을 입력한다.\n",
    "print(arr1) # 1,1의 값이 100으로 바뀐것을 알 수 있다.\n",
    "print(arr) # arr의 값 또한 바뀐것을 알 수 있다.  => ???\n",
    "\n",
    "# arr1의 값을 바꾸었는데 arr의 값도 바뀌었다.\n",
    "# ! 여기서 알 수 있는점은 reshape은 새로운 view를 만들었다는 것을 알 수 있다.\n",
    "# !  -> 원본 데이터는 그대로 있고 보여주는 모양만 바꾸는 것이다.\n",
    "# reshape는 View를 만들어 주는 역할!"
   ]
  },
  {
   "cell_type": "code",
   "execution_count": 89,
   "metadata": {},
   "outputs": [
    {
     "name": "stdout",
     "output_type": "stream",
     "text": [
      "[5 7 9]\n",
      "[2 3 4]\n",
      "[3 6 9]\n"
     ]
    }
   ],
   "source": [
    "# Ndarray 특징 2\n",
    "\n",
    "# Ndarray의 덧셈\n",
    "arr1 = np.array([1, 2, 3])\n",
    "arr2 = np.array([4, 5, 6])\n",
    "print(arr1 + arr2) # ndarray의 덧셈\n",
    "# ! list와 달리 ndarray는 같은 위치의 값들끼리 더한다.\n",
    "\n",
    "# ndarray의 broadcasting\n",
    "print(arr1 +1) # 싸이즈가 다른 것은 자동으로 변환시킨다.\n",
    "# print(arr1 +1) -> print(arr1 + np.array[1, 1, 1])  -> 이 현상을 boradcasting이라고 한다.\n",
    "print(arr1 * 3)\n",
    "\n",
    "# broadcasting & vector 연산 !"
   ]
  },
  {
   "cell_type": "code",
   "execution_count": 115,
   "metadata": {},
   "outputs": [
    {
     "name": "stdout",
     "output_type": "stream",
     "text": [
      "[[8 5 4]\n",
      " [7 8 8]]\n"
     ]
    }
   ],
   "source": [
    "import numpy as np\n",
    "\n",
    "# numpy는 집계함수를 제공한다.\n",
    "arr = np.random.randint(0, 10, (2,3))  # randint -> 정수형 난수를 뽑는 함수\n",
    "# (a, b, c) -> 튜플형태로 넣은 것, a: 난수 시작점, b: 난수 끝점, c : 난수를 추출할 형태\n",
    "print(arr)\n"
   ]
  },
  {
   "cell_type": "code",
   "execution_count": 142,
   "metadata": {},
   "outputs": [
    {
     "name": "stdout",
     "output_type": "stream",
     "text": [
      "2차원 ndarray, arr1 :  [[9 4 0]\n",
      " [1 9 0]]\n",
      "arr1.std() :  3.8908725099762504\n",
      "arr1.sum() :  23 \n",
      "\n",
      "axis=0의 덧셈 :  [10 13  0] => 행방향 덧셈\n",
      "axis=2의 덧셈 :  [13 10] => 열방향 덧셈\n"
     ]
    }
   ],
   "source": [
    "# seed값을 이용해서 난수의 재현성을 확보\n",
    "np.random.seed(10)\n",
    "\n",
    "arr1 = np.random.randint(0, 10, (2,3))\n",
    "print(\"2차원 ndarray, arr1 : \",arr1) # seed값을 주면 항상 같은 값이 추출된다.\n",
    "print(\"arr1.std() : \",arr1.std()) # 표준편차 구하기\n",
    "print(\"arr1.sum() : \",arr1.sum(),\"\\n\")\n",
    "\n",
    "# axis에 대해서 알아보기\n",
    "# axis는 숫자값이다. 00, 1, 2, 3, 4...\n",
    "# 차원에 따라서 사용 할 수 있는 axis의 값이 제한, 의미가 달라진다.\n",
    "\n",
    "# axis는 0을 포함한 양의 정수만 사용 가능하다.\n",
    "# 1차원 ndarray [1 2 3 4 5] 의 axis는 0   \n",
    "# 1차원 axis = 0 => 열방향을 지칭\n",
    "\n",
    "# 새로 만든 차원이 axis 0가 된다.\n",
    "# 2차원 ndarray   axis : 0 = 행방향, axis : 1 =>열방향\n",
    "# 3차원 ndarray   axis : 0 = z방향,  axis:1 => y방향, axis:2 => x방향\n",
    "\n",
    "print(\"axis=0의 덧셈 : \",arr1.sum(axis=0), \"=> 행방향 덧셈\")\n",
    "print(\"axis=2의 덧셈 : \",arr1.sum(axis=1), \"=> 열방향 덧셈\")"
   ]
  },
  {
   "cell_type": "markdown",
   "metadata": {},
   "source": [
    "## Pandas\n",
    "### Pandas : python data 분석의 핵심 library (EDA)\n",
    "### Pandas 특징\n",
    "1. 2개의 자료구조를 이용\n",
    "    - Series : 1차원 ,  ndarray의 vector구조 (거의 유사)\n",
    "    - Dataframe : 2차원, ndarray의 matrix구조 (거의 유사)\n",
    "        - Data처리를 할 때 Dataframe을 주로 사용한다.\n",
    "        - 일반적으로 CSV파일이나, Database, OpenAPI같은 것들 이용해서 __데이터를 DataFrame으로 로딩.__\n",
    "        - Excel과 유사한 구조라고 생각하면 편하다.\n",
    "        \n",
    "    * 데이터 분석을 잘 하기 위해서는 분석을 할 수 있게 데이터 핸들링을 잘 해야 하고,\n",
    "    * __데이터 핸들링을 잘 하기 위해서는 Dataframe을 잘 다루어야 한다.__ _(데이터 정제)_\n",
    "\n",
    "\n"
   ]
  },
  {
   "cell_type": "code",
   "execution_count": 143,
   "metadata": {},
   "outputs": [],
   "source": [
    "import pandas as pd"
   ]
  },
  {
   "cell_type": "code",
   "execution_count": 145,
   "metadata": {
    "scrolled": false
   },
   "outputs": [
    {
     "data": {
      "text/html": [
       "<div>\n",
       "<style scoped>\n",
       "    .dataframe tbody tr th:only-of-type {\n",
       "        vertical-align: middle;\n",
       "    }\n",
       "\n",
       "    .dataframe tbody tr th {\n",
       "        vertical-align: top;\n",
       "    }\n",
       "\n",
       "    .dataframe thead th {\n",
       "        text-align: right;\n",
       "    }\n",
       "</style>\n",
       "<table border=\"1\" class=\"dataframe\">\n",
       "  <thead>\n",
       "    <tr style=\"text-align: right;\">\n",
       "      <th></th>\n",
       "      <th>이름</th>\n",
       "      <th>학과</th>\n",
       "      <th>학년</th>\n",
       "    </tr>\n",
       "  </thead>\n",
       "  <tbody>\n",
       "    <tr>\n",
       "      <th>0</th>\n",
       "      <td>홍길동</td>\n",
       "      <td>수학과</td>\n",
       "      <td>1</td>\n",
       "    </tr>\n",
       "    <tr>\n",
       "      <th>1</th>\n",
       "      <td>최길동</td>\n",
       "      <td>컴퓨터과</td>\n",
       "      <td>3</td>\n",
       "    </tr>\n",
       "    <tr>\n",
       "      <th>2</th>\n",
       "      <td>김길동</td>\n",
       "      <td>철학과</td>\n",
       "      <td>4</td>\n",
       "    </tr>\n",
       "  </tbody>\n",
       "</table>\n",
       "</div>"
      ],
      "text/plain": [
       "    이름    학과  학년\n",
       "0  홍길동   수학과   1\n",
       "1  최길동  컴퓨터과   3\n",
       "2  김길동   철학과   4"
      ]
     },
     "metadata": {},
     "output_type": "display_data"
    }
   ],
   "source": [
    "# dict(Dictionary)를 이용해서 DataFrame을 만들어보기\n",
    "# Dictionary는 해쉬값을 이용해서 Json형태처럼 저장하는 자료형이다.\n",
    "data = { \"이름\" : [\"홍길동\", \"최길동\", \"김길동\"],\n",
    "       \"학과\" : [\"수학과\", \"컴퓨터과\", \"철학과\"],\n",
    "       \"학년\" : [1, 3, 4]}\n",
    "df = pd.DataFrame(data)\n",
    "display(df)\n",
    "# 여기에서는 Pandas가 어떤 형태고 어떤 구조인지말 살펴본다.\n",
    "# Pandas의 자세한 내용은 실습을 통해서 살펴보자."
   ]
  },
  {
   "cell_type": "code",
   "execution_count": null,
   "metadata": {},
   "outputs": [],
   "source": []
  }
 ],
 "metadata": {
  "kernelspec": {
   "display_name": "Python [conda env:data_env] *",
   "language": "python",
   "name": "conda-env-data_env-py"
  },
  "language_info": {
   "codemirror_mode": {
    "name": "ipython",
    "version": 3
   },
   "file_extension": ".py",
   "mimetype": "text/x-python",
   "name": "python",
   "nbconvert_exporter": "python",
   "pygments_lexer": "ipython3",
   "version": "3.6.10"
  }
 },
 "nbformat": 4,
 "nbformat_minor": 4
}

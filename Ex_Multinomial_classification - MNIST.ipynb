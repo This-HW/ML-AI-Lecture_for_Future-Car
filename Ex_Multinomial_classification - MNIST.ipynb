{
 "cells": [
  {
   "cell_type": "markdown",
   "metadata": {},
   "source": [
    "이번에는 tensorflow에서 제공 해주는 기본 데이터인 mnist를 이용해 실습을 해보자.\n",
    "(이와같은 데이터는 kaggle에서도 많이 구할 수 있다.)\n",
    "\n",
    "MNIST설명 - 손글씨 데이터이다.\n",
    "기본적으로 이미지는 (가로, 세로, RGB)로 이루어진 3차원 데이터이다. \n",
    "하지만, MNIST는 흑백사진이여서 2차원이다. (가로, 세로)\n",
    "그래서 쉽게 학습 시킬 수 있다."
   ]
  },
  {
   "cell_type": "code",
   "execution_count": 5,
   "metadata": {},
   "outputs": [
    {
     "name": "stdout",
     "output_type": "stream",
     "text": [
      "Extracting ./data/mnist\\train-images-idx3-ubyte.gz\n",
      "Extracting ./data/mnist\\train-labels-idx1-ubyte.gz\n",
      "Extracting ./data/mnist\\t10k-images-idx3-ubyte.gz\n",
      "Extracting ./data/mnist\\t10k-labels-idx1-ubyte.gz\n"
     ]
    }
   ],
   "source": [
    "import tensorflow as tf\n",
    "from tensorflow.examples.tutorials.mnist import input_data\n",
    "import matplotlib\n",
    "import matplotlib.pyplot as plt\n",
    "import pandas as pd\n",
    "import numpy as np\n",
    "\n",
    "# Data loading & train data set, test data set\n",
    "mnist = input_data.read_data_sets(\"./data/mnist\", one_hot=True)\n",
    "# 텐서플로우에서 제공되는 MNIST의 One_hot_encoding버전 학습 데이터 다운"
   ]
  },
  {
   "cell_type": "code",
   "execution_count": 14,
   "metadata": {},
   "outputs": [
    {
     "data": {
      "image/png": "[encoded data removed]",
      "text/plain": [
       "<Figure size 432x288 with 1 Axes>"
      ]
     },
     "metadata": {
      "needs_background": "light"
     },
     "output_type": "display_data"
    }
   ],
   "source": [
    "img1 = mnist.train.images[0] # MNIST의 train 속성 데이터의 1번째 이미지를 저장한다.\n",
    "\n",
    "plt.imshow(img1.reshape(28,28), cmap=\"Greys\") # mnist의 이미지들은 1차원 이미지이므로 2차원으로 변환하고, 흑백이미지로 불러온다.\n",
    "plt.show() # 이미지 출력"
   ]
  },
  {
   "cell_type": "code",
   "execution_count": 56,
   "metadata": {},
   "outputs": [],
   "source": [
    "## Place holder\n",
    "X = tf.placeholder(shape=[None, 784], dtype = tf.float32)\n",
    "Y = tf.placeholder(shape=[None, 10], dtype = tf.float32)\n",
    "\n",
    "\n",
    "## Weight & bias\n",
    "W = tf.Variable(tf.random_normal([784, 10]), name = \"weight\")\n",
    "b = tf.Variable(tf.random_normal([10]), name = \"weight\")\n",
    "\n",
    "\n",
    "## Hypothesis\n",
    "logit = tf.matmul(X, W) + b\n",
    "H = tf.nn.softmax(logit)\n",
    "\n",
    "\n",
    "## cost\n",
    "cost = tf.reduce_mean(tf.nn.softmax_cross_entropy_with_logits_v2(logits=logit, labels=Y))\n",
    "\n",
    "\n",
    "##train \n",
    "train = tf.train.GradientDescentOptimizer(learning_rate=0.1).minimize(cost)\n",
    "\n",
    "\n",
    "## Session & 초기화\n",
    "sess = tf.Session()\n",
    "sess.run(tf.global_variables_initializer())"
   ]
  },
  {
   "cell_type": "code",
   "execution_count": 57,
   "metadata": {},
   "outputs": [
    {
     "name": "stdout",
     "output_type": "stream",
     "text": [
      "cost 값은 0.5776849985122681\n",
      "cost 값은 0.5908656120300293\n",
      "cost 값은 0.47726982831954956\n",
      "cost 값은 0.622123122215271\n",
      "cost 값은 0.37512415647506714\n",
      "cost 값은 0.5393787622451782\n",
      "cost 값은 0.4284000098705292\n",
      "cost 값은 0.7376624941825867\n",
      "cost 값은 0.192085400223732\n",
      "cost 값은 0.4835072457790375\n",
      "cost 값은 0.34338927268981934\n",
      "cost 값은 0.3458527624607086\n",
      "cost 값은 0.4825902581214905\n",
      "cost 값은 0.2597339153289795\n",
      "cost 값은 0.4371829926967621\n",
      "cost 값은 0.20351722836494446\n",
      "cost 값은 0.3704228699207306\n"
     ]
    }
   ],
   "source": [
    "## 학습\n",
    "# epoch : 1 epoch는 training data를 이용해서 1번 학습하는 것.\n",
    "train_epoch = 50 # 학습을 몇번 할 것인가.\n",
    "batch_size = 100 # 55000의 데이터를 한번에 학습하기가 쉽지 않다. 그래서 한번의 epoch때에도 학습을 나누어서 한다. 100개씩 550번 학습\n",
    "\n",
    "for step in range(train_epoch) :    \n",
    "    num_of_iter = int(mnist.train.num_examples/batch_size) # 여기에서는 550이다.\n",
    "    \n",
    "    for i in range(num_of_iter) :\n",
    "        batch_x, batch_y = mnist.train.next_batch(batch_size) # mnist에서는 배치크기에 따라 데이터들을 자동으로 만들어주는 함수가 있다.\n",
    "        \n",
    "        tmp_train, cost_val = sess.run([train, cost],\n",
    "                                      feed_dict = {X: batch_x,\n",
    "                                                  Y : batch_y})\n",
    "\n",
    "    if step % 3 == 0:\n",
    "        print(\"cost 값은 {}\".format(cost_val))"
   ]
  },
  {
   "cell_type": "code",
   "execution_count": 58,
   "metadata": {},
   "outputs": [
    {
     "name": "stdout",
     "output_type": "stream",
     "text": [
      "0.9089\n"
     ]
    }
   ],
   "source": [
    "## 정확도 측정\n",
    "predict = tf.argmax(H, axis =1)\n",
    "correct = tf.equal(predict, tf.argmax(Y, axis = 1))\n",
    "accuracy = tf.reduce_mean(tf.cast(correct, dtype=tf.float32))\n",
    "\n",
    "print(sess.run(accuracy, feed_dict = {X: mnist.test.images , Y: mnist.test.labels}))"
   ]
  },
  {
   "cell_type": "markdown",
   "metadata": {},
   "source": [
    "이번에는 이미지를 1차원 배열로 바꾸어서 입력하였다.\n",
    "그래서 만약에 한번에 넣었다면 학습 데이터로 [55000, 784]개가 한번에 들어가고, 출력값(결과값)이 [1, 784]가 되었을 것이다.\n",
    "\n",
    "하지만 배치사이즈를 설정 함으로써, 학습데이터를 쪼개서 넣었다.\n",
    "배치 싸이즈를 100으로 설정함으로써 한번에 입력되는 학습데이터는 [100, 784]가 되었고, 한번의 epoch에서도 학습이 550회가 이루어졌다.\n",
    "어떻게 보면 학습한 횟수만 따지자면 epoch * batch = 5000 회라고 볼 수 있다.\n"
   ]
  }
 ],
 "metadata": {
  "kernelspec": {
   "display_name": "Python [conda env:data_env] *",
   "language": "python",
   "name": "conda-env-data_env-py"
  },
  "language_info": {
   "codemirror_mode": {
    "name": "ipython",
    "version": 3
   },
   "file_extension": ".py",
   "mimetype": "text/x-python",
   "name": "python",
   "nbconvert_exporter": "python",
   "pygments_lexer": "ipython3",
   "version": "3.6.10"
  }
 },
 "nbformat": 4,
 "nbformat_minor": 4
}

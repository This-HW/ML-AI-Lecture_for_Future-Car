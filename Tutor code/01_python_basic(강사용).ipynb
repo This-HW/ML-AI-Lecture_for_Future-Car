{
 "cells": [
  {
   "cell_type": "code",
   "execution_count": 1,
   "metadata": {},
   "outputs": [],
   "source": [
    "# Big Data\n",
    "# 일반적으로는 데이터 크기가 큰 데이터\n",
    "\n",
    "# Big Data의 정의\n",
    "# 3V\n",
    "# Volumn(데이터의 양) => 데이터의 크기가 아주 큰 데이터\n",
    "# Varietry(다양성) => 데이터의 다양성\n",
    "# Velocity(속도) => 데이터 발생 속도\n",
    "\n",
    "# 빅데이터 분석\n",
    "# EDA(탐색적 데이터 분석) => 데이터 분석의 가장 기본\n",
    "# 통계적 가설 검증(statistical hypothesis testing)\n",
    "\n",
    "# Machine Learning => prediction\n",
    "# deep learning"
   ]
  },
  {
   "cell_type": "code",
   "execution_count": 13,
   "metadata": {},
   "outputs": [
    {
     "name": "stdout",
     "output_type": "stream",
     "text": [
      "t\n",
      "x\n",
      "s is\n",
      "나는 사과를 100개 가지고 있어요!\n",
      "[1, 2, 3, 4, 5, 6]\n",
      "[1, 2, 3, 1, 2, 3, 1, 2, 3]\n",
      "a가 10보다 커요!\n",
      "서울\n",
      "인천\n",
      "부산\n"
     ]
    }
   ],
   "source": [
    "# python의 주석은 # 으로 표현합니다!!\n",
    "\n",
    "# python의 사용되는 contant는 True, False, None\n",
    "# python은 weak type언어\n",
    "var1 = 3\n",
    "var2 = 3.14\n",
    "var3 = \"홍길동\"  \n",
    "# python은 문자개념이 없어요. 모두 문자열이예요!\n",
    "var4 = '홍길동'  # text sequence type\n",
    "var5 = True\n",
    "var6 = None\n",
    "var7 = \"this is a sample text\"\n",
    "# python은 배열이 없어요!\n",
    "print(var7[0])   # indexing\n",
    "print(var7[-2])\n",
    "# cell을 실행하려면 ctrl+enter하시면 되요!\n",
    "print(var7[3:7]) # slicing\n",
    "var8 = \"나는 사과를 {}개 가지고 있어요!\"\n",
    "print(var8.format(100))\n",
    "################## data type #################\n",
    "\n",
    "################## data structure ############\n",
    "# 1. list\n",
    "# [] 로 표현해요!\n",
    "list_1 = [1, 3.14, \"Hello\", True]\n",
    "# indexing과 slicing 사용 가능\n",
    "list_1 = [1,2,3]\n",
    "list_2 = [4,5,6]\n",
    "print(list_1 + list_2)  # list의 연결\n",
    "print(list_1 * 3)\n",
    "# 2. tuple\n",
    "# () 로 표현해요\n",
    "tuple_1 = (1,2,3,4,5)\n",
    "tuple_2 = (1,)  # 원소가 1개인 tuple\n",
    "tuple_3 = 1,2,3,4  # tuple은 ()를 생략할 수 있어요!\n",
    "# 3. range ( for문과 함께 사용되는게 일반적 )\n",
    "range_1 = range(10)\n",
    "range_2 = range(1,15,2)\n",
    "# 4. dictionary(dict) => hashmap, key와 value로 이루어진 자료구조\n",
    "# { }를 이용하여 key와 value의 쌍으로 데이터를 표현\n",
    "dict_1 = { \"name\" : \"홍길동\", \"age\" : 20, \"address\" : \"서울\"}\n",
    "# 5. set\n",
    "# { }를 이용해서 표현. key와 value로 표현하지 않아요!\n",
    "set_1 = {1,2,3,4,5}\n",
    "\n",
    "#######################################################\n",
    "\n",
    "# 제어문\n",
    "# if문\n",
    "# python은 제어문의 block을 표현할 때 {}를 이용하지 않아요!\n",
    "# indent를 이용해서 block을 표현.\n",
    "a = 20\n",
    "if a > 10:\n",
    "    print(\"a가 10보다 커요!\")\n",
    "elif a > 5:\n",
    "    print(\"a가 5보다 커요!\")\n",
    "else:\n",
    "    print(\"!!!!\")\n",
    "# for\n",
    "my_list = [\"서울\",\"인천\",\"부산\"]\n",
    "for tmp in my_list:\n",
    "    print(tmp)\n",
    "    \n",
    "## 내장함수, 사용자 정의 함수\n",
    "## 객체지향(class와 instance)\n",
    "## module & package\n",
    "###############################################\n",
    "\n",
    "# Data분석을 위해서 기본적으로 알아야 하는 library\n",
    "# Numpy : 수치계산을 위한 python library. Pandas의 기본 자료구조\n",
    "# Pandas : python에서 데이터분석을 위한 핵심 library\n",
    "# Matplotlib(seaborn) : 분석된 데이터를 그래프화 시키는 library\n",
    "\n",
    "#######################################################"
   ]
  },
  {
   "cell_type": "code",
   "execution_count": 23,
   "metadata": {},
   "outputs": [
    {
     "name": "stdout",
     "output_type": "stream",
     "text": [
      "[1, 2, 3, 4]\n",
      "[1 2 3 4]\n",
      "[1.  2.  3.  4.1]\n",
      "[[1 2 3]\n",
      " [4 5 6]]\n",
      "[[1. 2. 3.]\n",
      " [4. 5. 6.]]\n",
      "(2, 3)\n"
     ]
    },
    {
     "data": {
      "image/png": "[encoded data removed]",
      "text/plain": [
       "<Figure size 432x288 with 1 Axes>"
      ]
     },
     "metadata": {
      "needs_background": "light"
     },
     "output_type": "display_data"
    }
   ],
   "source": [
    "# Numpy =>  Numerical python\n",
    "# Vector와 matrix연산에 최적화\n",
    "# pandas와 matplotlib에서 사용되는 기본 자료구조\n",
    "# Numpy는 n-dimensional array => ndarray\n",
    "# ndarray는 배열이기 때문에 같은 데이터 타입만 사용가능\n",
    "import numpy as np\n",
    "\n",
    "a = [1,2,3,4]   # python의 list\n",
    "b = np.array([1,2,3,4])  # ndarray\n",
    "print(a)\n",
    "print(b)\n",
    "b = np.array([1,2,3.0,4.1])  # ndarray\n",
    "print(b)\n",
    "\n",
    "b = np.array([[1,2,3],[4,5,6]])\n",
    "print(b)\n",
    "\n",
    "b = np.array([[1,2,3],[4,5,6]], dtype=np.float64)\n",
    "print(b)\n",
    "\n",
    "print(b.shape)\n",
    "#############################\n",
    "# numpy를 이용한 난수발생\n",
    "# 1. 정규분포를 이용해서 난수를 발생\n",
    "import numpy as np\n",
    "import matplotlib.pyplot as plt\n",
    "\n",
    "# 정규분포 => 평균, 표준편차\n",
    "tmp_mean = 0\n",
    "tmp_std = 1 \n",
    "arr = np.random.normal(tmp_mean,tmp_std,(10000,))\n",
    "plt.hist(arr,bins=100)\n",
    "plt.show()"
   ]
  },
  {
   "cell_type": "code",
   "execution_count": 26,
   "metadata": {},
   "outputs": [
    {
     "data": {
      "image/png": "[encoded data removed]",
      "text/plain": [
       "<Figure size 432x288 with 1 Axes>"
      ]
     },
     "metadata": {
      "needs_background": "light"
     },
     "output_type": "display_data"
    }
   ],
   "source": [
    "# 균등분포 : [0,1)    \n",
    "arr = np.random.rand(1000000)\n",
    "plt.hist(arr,bins=100)\n",
    "plt.show()"
   ]
  },
  {
   "cell_type": "code",
   "execution_count": 30,
   "metadata": {},
   "outputs": [
    {
     "name": "stdout",
     "output_type": "stream",
     "text": [
      "[ 0  1  2  3  4  5  6  7  8  9 10 11]\n",
      "[[ 0  1  2]\n",
      " [ 3  4  5]\n",
      " [ 6  7  8]\n",
      " [ 9 10 11]]\n",
      "[[100   1   2]\n",
      " [  3   4   5]\n",
      " [  6   7   8]\n",
      " [  9  10  11]]\n",
      "[100   1   2   3   4   5   6   7   8   9  10  11]\n"
     ]
    }
   ],
   "source": [
    "## ndarray는 형태를 마음대로 변형시킬 수 있어요!\n",
    "import numpy as np\n",
    "\n",
    "arr = np.arange(0,12,1)\n",
    "print(arr)   # 1차원의 ndarray\n",
    "\n",
    "arr1 = arr.reshape(4,3)\n",
    "print(arr1)  # 2차원의 ndarray로 변환이 되요!\n",
    "\n",
    "arr1[0,0] = 100   \n",
    "print(arr1)\n",
    "print(arr)\n",
    "## reshape()는 View를 만들어주는 역할."
   ]
  },
  {
   "cell_type": "code",
   "execution_count": 33,
   "metadata": {},
   "outputs": [
    {
     "name": "stdout",
     "output_type": "stream",
     "text": [
      "[2 3 4]\n"
     ]
    }
   ],
   "source": [
    "arr1 = np.array([1,2,3])\n",
    "arr2 = np.array([4,5,6])\n",
    "\n",
    "print(arr1 * 3)  # broadcasting & vector연산"
   ]
  },
  {
   "cell_type": "code",
   "execution_count": 64,
   "metadata": {},
   "outputs": [
    {
     "name": "stdout",
     "output_type": "stream",
     "text": [
      "[[9 0 1]\n",
      " [7 1 7]]\n",
      "25\n",
      "[10 15]\n"
     ]
    }
   ],
   "source": [
    "import numpy as np\n",
    "\n",
    "# seed값을 이용해서 난수의 재현성을 확보\n",
    "np.random.seed(11)\n",
    "# numpy는 집계함수를 제공\n",
    "arr = np.random.randint(0,10,(2,3))\n",
    "print(arr)\n",
    "print(arr.sum())   \n",
    "# axis에 대해서 알아보아요!\n",
    "# axis는 숫자값이예요.. 0,1,2,3,4,...\n",
    "# 차원에 따라서 사용할 수 있는 axis의 값이 제한, 의미가 달라져요\n",
    "\n",
    "# 1차원 ndarray [1 2 3 4 5]  axis = 0 => 열방향을 지칭\n",
    "# 2차원 ndarray axis=0 =>  행방향, axis=1 => 열방향\n",
    "print(arr.sum(axis=1))"
   ]
  },
  {
   "cell_type": "code",
   "execution_count": 68,
   "metadata": {},
   "outputs": [
    {
     "data": {
      "text/html": [
       "<div>\n",
       "<style scoped>\n",
       "    .dataframe tbody tr th:only-of-type {\n",
       "        vertical-align: middle;\n",
       "    }\n",
       "\n",
       "    .dataframe tbody tr th {\n",
       "        vertical-align: top;\n",
       "    }\n",
       "\n",
       "    .dataframe thead th {\n",
       "        text-align: right;\n",
       "    }\n",
       "</style>\n",
       "<table border=\"1\" class=\"dataframe\">\n",
       "  <thead>\n",
       "    <tr style=\"text-align: right;\">\n",
       "      <th></th>\n",
       "      <th>이름</th>\n",
       "      <th>학과</th>\n",
       "      <th>학년</th>\n",
       "    </tr>\n",
       "  </thead>\n",
       "  <tbody>\n",
       "    <tr>\n",
       "      <th>0</th>\n",
       "      <td>홍길동</td>\n",
       "      <td>수학</td>\n",
       "      <td>1</td>\n",
       "    </tr>\n",
       "    <tr>\n",
       "      <th>1</th>\n",
       "      <td>최길동</td>\n",
       "      <td>컴퓨터</td>\n",
       "      <td>3</td>\n",
       "    </tr>\n",
       "    <tr>\n",
       "      <th>2</th>\n",
       "      <td>김길동</td>\n",
       "      <td>철학</td>\n",
       "      <td>4</td>\n",
       "    </tr>\n",
       "  </tbody>\n",
       "</table>\n",
       "</div>"
      ],
      "text/plain": [
       "    이름   학과  학년\n",
       "0  홍길동   수학   1\n",
       "1  최길동  컴퓨터   3\n",
       "2  김길동   철학   4"
      ]
     },
     "metadata": {},
     "output_type": "display_data"
    }
   ],
   "source": [
    "# pandas : python data 분석의 핵심 library (EDA)\n",
    "# pandas => 2개의 자료구조를 이용\n",
    "#           - Series    ( 1차원, ndarray의 vector구조 )\n",
    "#           - DataFrame ( 2차원, ndarray의 matrix구조)\n",
    "# 우리는 DataFrame을 이용해서 data처리를 해요!\n",
    "# 일반적으로 CSV파일이나, Database, OpenAPI같은 것들을 이용해서\n",
    "# 데이터를 DataFrame으로 로딩.\n",
    "import pandas as pd\n",
    "\n",
    "# dict(dictionary)를 이용해서 DataFrame을 만들어 보아요!\n",
    "data = {\"이름\" : [\"홍길동\",\"최길동\",\"김길동\"],\n",
    "        \"학과\" : [\"수학\",\"컴퓨터\",\"철학\"],\n",
    "        \"학년\" : [1, 3, 4]}\n",
    "\n",
    "df = pd.DataFrame(data)\n",
    "display(df)"
   ]
  },
  {
   "cell_type": "code",
   "execution_count": null,
   "metadata": {},
   "outputs": [],
   "source": [
    "### Machine Learning\n",
    "\n",
    "### 1960년대부터 나온 개념.\n",
    "### explicit program으로 해결할 수 없는 문제를 해결하기 위해서 대두\n",
    "\n",
    "### 머신러닝을 구분하는 분류\n",
    "### 지도학습(Supervised Learning)\n",
    "###   - linear regression\n",
    "###   - logistic regression(binary classification)\n",
    "###   - multinomial classification\n",
    "### 비지도학습(Unsupervised Learning)\n",
    "### 강화학습\n"
   ]
  },
  {
   "cell_type": "code",
   "execution_count": null,
   "metadata": {},
   "outputs": [],
   "source": [
    "## linear regression을 tensorflow를 이용해서 코드로\n",
    "## 구현해 보아요!\n",
    "\n",
    "## tesorflow는 google에서 지원하는 machine learning library\n",
    "## 기존의 library와는 사용법이 약간 달라요!\n",
    "\n",
    "## tensorflow는 graph를 그리는 library\n",
    "## tensorflow는 크게 3가지로 구성되어 있어요\n",
    "## 1. Node : 데이터의 입출력을 담당, 데이터의 연산을 담당\n",
    "## 2. edge : Node와 Node을 이어주는 선.\n",
    "## 3. tensor : 데이터를 나타내는 다차원배열"
   ]
  },
  {
   "cell_type": "code",
   "execution_count": 75,
   "metadata": {},
   "outputs": [
    {
     "name": "stdout",
     "output_type": "stream",
     "text": [
      "[60.0, 20.0]\n"
     ]
    }
   ],
   "source": [
    "import tensorflow as tf\n",
    "\n",
    "node1 = tf.constant(20, dtype=tf.float32)\n",
    "node2 = tf.constant(40, dtype=tf.float32)\n",
    "\n",
    "node3 = node1 + node2\n",
    "\n",
    "# 그래프를 다 그렸으면 그래프를 실행시키는 runner가 필요\n",
    "sess = tf.Session()\n",
    "\n",
    "print(sess.run([node3,node1]))"
   ]
  },
  {
   "cell_type": "code",
   "execution_count": 77,
   "metadata": {},
   "outputs": [
    {
     "name": "stdout",
     "output_type": "stream",
     "text": [
      "60.0\n"
     ]
    }
   ],
   "source": [
    "import tensorflow as tf\n",
    "\n",
    "node1 = tf.placeholder(dtype=tf.float32)\n",
    "node2 = tf.placeholder(dtype=tf.float32)\n",
    "\n",
    "node3 = node1 + node2\n",
    "\n",
    "# 그래프를 다 그렸으면 그래프를 실행시키는 runner가 필요\n",
    "sess = tf.Session()\n",
    "\n",
    "print(sess.run(node3, feed_dict={node1 : 20,\n",
    "                                 node2 : 40}))"
   ]
  },
  {
   "cell_type": "code",
   "execution_count": 1,
   "metadata": {},
   "outputs": [
    {
     "name": "stdout",
     "output_type": "stream",
     "text": [
      "cost값은 : 9.210203170776367\n",
      "cost값은 : 0.028821980580687523\n",
      "cost값은 : 0.00680086575448513\n",
      "cost값은 : 0.001604746445082128\n",
      "cost값은 : 0.00037865221383981407\n",
      "cost값은 : 8.934879588196054e-05\n",
      "cost값은 : 2.1083687897771597e-05\n",
      "cost값은 : 4.974469902663259e-06\n",
      "cost값은 : 1.1743763934646267e-06\n",
      "cost값은 : 2.776367580281658e-07\n"
     ]
    }
   ],
   "source": [
    "import tensorflow as tf\n",
    "\n",
    "# 1. training data set\n",
    "x_data = [1,2,3]    # list로 해야되나요? ndarray로 하면 안되요?\n",
    "y_data = [3,5,7]\n",
    "\n",
    "# 2. placeholder\n",
    "x = tf.placeholder(dtype=tf.float32)\n",
    "y = tf.placeholder(dtype=tf.float32)\n",
    "\n",
    "# 3. Weight, bias\n",
    "W = tf.Variable(tf.random_normal([1]), name=\"weight\")\n",
    "b = tf.Variable(tf.random_normal([1]), name=\"bias\")\n",
    "\n",
    "# 4. Hypothesis\n",
    "H = W * x + b\n",
    "\n",
    "# 5. cost function(loss function)\n",
    "cost = tf.reduce_mean(tf.square(H-y))\n",
    "\n",
    "# 6. train\n",
    "# cost값을 줄이기 위해서 알고리즘을 이용(GradientDescent)\n",
    "train = tf.train.GradientDescentOptimizer(learning_rate=0.01).minimize(cost)\n",
    "\n",
    "# 7. sess, 초기화\n",
    "sess = tf.Session()\n",
    "sess.run(tf.global_variables_initializer())\n",
    "\n",
    "# 8. 학습\n",
    "for step in range(3000):\n",
    "    tmp_train, cost_val = sess.run([train,cost], \n",
    "                                   feed_dict={x:x_data,\n",
    "                                              y:y_data})\n",
    "    if step % 300 == 0:\n",
    "        print(\"cost값은 : {}\".format(cost_val))        "
   ]
  },
  {
   "cell_type": "code",
   "execution_count": 2,
   "metadata": {},
   "outputs": [
    {
     "name": "stdout",
     "output_type": "stream",
     "text": [
      "[40.994705]\n"
     ]
    }
   ],
   "source": [
    "# prediction\n",
    "print(sess.run(H, feed_dict={x:20}))"
   ]
  },
  {
   "cell_type": "code",
   "execution_count": 8,
   "metadata": {},
   "outputs": [
    {
     "name": "stdout",
     "output_type": "stream",
     "text": [
      "cost값은 : 20447.0703125\n",
      "cost값은 : 1.8660732507705688\n",
      "cost값은 : 1.8634620904922485\n",
      "cost값은 : 1.8608849048614502\n",
      "cost값은 : 1.8583095073699951\n",
      "cost값은 : 1.8557332754135132\n",
      "cost값은 : 1.853137731552124\n",
      "cost값은 : 1.850563645362854\n",
      "cost값은 : 1.8480457067489624\n",
      "cost값은 : 1.8454668521881104\n"
     ]
    }
   ],
   "source": [
    "# machine learning \n",
    "# -> supervised learning(지도학습)\n",
    "#    Simple linear regression(단순 선형 회귀)\n",
    "#    Multiple linear regression(다중 선형 회귀)\n",
    "import tensorflow as tf\n",
    "\n",
    "# 1. training data set\n",
    "x_data = [[73,80,75],\n",
    "          [93,88,93],\n",
    "          [89,91,90],\n",
    "          [96,98,100],\n",
    "          [73,66,70]]\n",
    "y_data = [[152],[185],[180],[196],[142]]\n",
    "\n",
    "# 2. placeholder\n",
    "X = tf.placeholder(shape=[None,3], dtype=tf.float32)\n",
    "Y = tf.placeholder(shape=[None,1], dtype=tf.float32)\n",
    "\n",
    "# 3. Weight & bias\n",
    "W = tf.Variable(tf.random_normal([3,1]), name=\"weight\")\n",
    "b = tf.Variable(tf.random_normal([1]), name=\"bias\")\n",
    "\n",
    "# 4. Hypothesis\n",
    "H = tf.matmul(X,W) + b\n",
    "\n",
    "# 5. cost function(loss function)\n",
    "cost = tf.reduce_mean(tf.square(H-Y))\n",
    "\n",
    "# 6. train\n",
    "train = tf.train.GradientDescentOptimizer(learning_rate=0.000001).minimize(cost)\n",
    "\n",
    "# 7. session, 초기화\n",
    "sess = tf.Session()\n",
    "sess.run(tf.global_variables_initializer())\n",
    "\n",
    "# 8. 학습\n",
    "for step in range(3000):\n",
    "    tmp_train, cost_val = sess.run([train,cost],\n",
    "                                  feed_dict={X:x_data,\n",
    "                                             Y:y_data})\n",
    "    if step % 300 == 0:\n",
    "        print(\"cost값은 : {}\".format(cost_val))"
   ]
  },
  {
   "cell_type": "code",
   "execution_count": 27,
   "metadata": {},
   "outputs": [
    {
     "name": "stdout",
     "output_type": "stream",
     "text": [
      "cost값은 : 2.523132562637329\n",
      "cost값은 : 0.01573658548295498\n",
      "cost값은 : 0.015540690161287785\n",
      "cost값은 : 0.015511657111346722\n",
      "cost값은 : 0.015507194213569164\n",
      "cost값은 : 0.015506508760154247\n",
      "cost값은 : 0.015506403520703316\n",
      "cost값은 : 0.015506387688219547\n",
      "cost값은 : 0.015506384894251823\n",
      "cost값은 : 0.015506385825574398\n"
     ]
    }
   ],
   "source": [
    "## ozone data를 이용한 multiple linear regression 구현\n",
    "import tensorflow as tf\n",
    "import pandas as pd\n",
    "import numpy as np\n",
    "from sklearn.preprocessing import MinMaxScaler\n",
    "\n",
    "# 1. Data Loading & preprocessing(데이터 전처리)\n",
    "df = pd.read_csv(\"./data/ozone.csv\", sep=\",\")\n",
    "# 결측치를 처리해야 해요!(NaN)\n",
    "# 결측치는 삭제하거나 다른 값으로 대체해서 처리해야 해요!\n",
    "df = df.dropna(how=\"any\")\n",
    "# 결측치를 처리한 후 이상치를 처리\n",
    "# 이상치를 찾아서 다른값으로 대체하거나 삭제하거나 하는 처리를\n",
    "# 해야해요!\n",
    "# 필요한 컬럼만 추출해보아요!\n",
    "df = df[[\"Ozone\",\"Solar.R\",\"Wind\",\"Temp\"]]\n",
    "# 학습이 가능한 형태로 만들기 위해서\n",
    "# 데이터를 normalization(정규화)시켜요!\n",
    "# 정규화된 값 = (현재값 - 최소값) / (최대값 - 최소값)\n",
    "# 일반적으로 sklearn package를 이용해서 편하게 처리\n",
    "scaler = MinMaxScaler()\n",
    "# 우리가 가진 데이터를 scaler를 이용해서 최대, 최소값을 구해서\n",
    "# scaling할 준비를 마쳐요!\n",
    "scaler.fit(df)\n",
    "data = scaler.transform(df)   # 최종 데이터 확보\n",
    "\n",
    "# 2. training data set\n",
    "x_data = data[:,1:]\n",
    "y_data = data[:,0].reshape(-1,1)\n",
    "\n",
    "# 3. placeholder\n",
    "X = tf.placeholder(shape=[None,3], dtype=tf.float32)\n",
    "Y = tf.placeholder(shape=[None,1], dtype=tf.float32)\n",
    "\n",
    "# 3. Weight & bias\n",
    "W = tf.Variable(tf.random_normal([3,1]), name=\"weight\")\n",
    "b = tf.Variable(tf.random_normal([1]), name=\"bias\")\n",
    "\n",
    "# 4. Hypothesis\n",
    "H = tf.matmul(X,W) + b\n",
    "\n",
    "# 5. cost function(loss function)\n",
    "cost = tf.reduce_mean(tf.square(H-Y))\n",
    "\n",
    "# 6. train\n",
    "train = tf.train.GradientDescentOptimizer(learning_rate=0.1).minimize(cost)\n",
    "\n",
    "# 7. session, 초기화\n",
    "sess = tf.Session()\n",
    "sess.run(tf.global_variables_initializer())\n",
    "\n",
    "# 8. 학습\n",
    "for step in range(3000):\n",
    "    tmp_train, cost_val = sess.run([train,cost],\n",
    "                                  feed_dict={X:x_data,\n",
    "                                             Y:y_data})\n",
    "    if step % 300 == 0:\n",
    "        print(\"cost값은 : {}\".format(cost_val))\n",
    "\n"
   ]
  },
  {
   "cell_type": "code",
   "execution_count": 31,
   "metadata": {},
   "outputs": [
    {
     "name": "stdout",
     "output_type": "stream",
     "text": [
      "cost 값은 : 0.8757730722427368\n",
      "cost 값은 : 0.44010502099990845\n",
      "cost 값은 : 0.3981914520263672\n",
      "cost 값은 : 0.36903899908065796\n",
      "cost 값은 : 0.346388041973114\n",
      "cost 값은 : 0.3281383812427521\n",
      "cost 값은 : 0.31309953331947327\n",
      "cost 값은 : 0.3004777431488037\n",
      "cost 값은 : 0.28971511125564575\n",
      "cost 값은 : 0.28040847182273865\n",
      "0.85714287\n",
      "[[0.75382835]]\n"
     ]
    }
   ],
   "source": [
    "## logistic regression(binary classification)\n",
    "import tensorflow as tf\n",
    "\n",
    "# 1. training data set, test data set\n",
    "# 전체 100라인 데이터가 우리에게 제공됬으면\n",
    "# 7:3, 8:2 비율로 traing data와 test data를 분리해서 사용\n",
    "x_data = [[10,0],\n",
    "          [8,1],\n",
    "          [3,3],\n",
    "          [2,3],\n",
    "          [5,1],\n",
    "          [2,0],\n",
    "          [1,0]]\n",
    "y_data = [[1],[1],[1],[1],[0],[0],[0]]\n",
    "\n",
    "# 2. placeholder\n",
    "X = tf.placeholder(shape=[None,2], dtype=tf.float32)\n",
    "Y = tf.placeholder(shape=[None,1], dtype=tf.float32)\n",
    "\n",
    "# 3. Weight & bias\n",
    "W = tf.Variable(tf.random_normal([2,1]), name=\"weight\")\n",
    "b = tf.Variable(tf.random_normal([1]), name=\"bias\")\n",
    "\n",
    "# 4. Hypothesis\n",
    "logit = tf.matmul(X,W) + b\n",
    "H = tf.sigmoid(logit)\n",
    "\n",
    "# 5. cost function(loss function)\n",
    "cost = tf.reduce_mean(tf.nn.sigmoid_cross_entropy_with_logits(logits=logit,\n",
    "                                                             labels=Y))\n",
    "\n",
    "# 6. train\n",
    "train = tf.train.GradientDescentOptimizer(learning_rate=0.01).minimize(cost)\n",
    "\n",
    "# 7. session,초기화\n",
    "sess = tf.Session()\n",
    "sess.run(tf.global_variables_initializer())\n",
    "\n",
    "# 8. 학습\n",
    "for step in range(3000):\n",
    "    tmp_train, cost_val = sess.run([train,cost],\n",
    "                                  feed_dict={X:x_data,\n",
    "                                             Y:y_data})\n",
    "    if step % 300 == 0:\n",
    "        print(\"cost 값은 : {}\".format(cost_val))\n",
    "\n",
    "# 9. accuracy (정확도 측정)        \n",
    "# python에서  True, False => 1, 0 이렇게 변환이 가능\n",
    "predict = tf.cast(H > 0.5, dtype=tf.float32)\n",
    "# H => [0.3, 0.7] => [False, True] => [0.,1.]\n",
    "correct = tf.equal(predict, Y)  # [True, False, True, ...]\n",
    "# [True, False, True, ...] => [1,0,1,...] => 평균\n",
    "accuracy = tf.reduce_mean(tf.cast(correct, dtype=tf.float32))\n",
    "\n",
    "print(sess.run(accuracy, feed_dict={X:x_data,\n",
    "                              Y:y_data}))\n",
    "\n",
    "# 10. predict\n",
    "print(sess.run(H, feed_dict={X:[[3,2]]}))\n"
   ]
  },
  {
   "cell_type": "code",
   "execution_count": null,
   "metadata": {},
   "outputs": [],
   "source": [
    "## logistic regression의 대표적인 예제(titanic)\n",
    "## kaggle의 예제를 통해서 학습해야 해요!!"
   ]
  },
  {
   "cell_type": "code",
   "execution_count": 35,
   "metadata": {},
   "outputs": [
    {
     "name": "stdout",
     "output_type": "stream",
     "text": [
      "cost 값은 : 6.702394008636475\n",
      "cost 값은 : 0.5432921051979065\n",
      "cost 값은 : 0.46192726492881775\n",
      "cost 값은 : 0.4264044165611267\n",
      "cost 값은 : 0.4024551808834076\n",
      "cost 값은 : 0.38361451029777527\n",
      "cost 값은 : 0.3676656186580658\n",
      "cost 값은 : 0.3536169230937958\n",
      "cost 값은 : 0.3409445881843567\n",
      "cost 값은 : 0.3293393552303314\n",
      "[[7.2609341e-01 2.7379164e-01 1.1496954e-04]]\n",
      "1.0\n"
     ]
    }
   ],
   "source": [
    "## logistic 여러개를 모아놓은 multinomial classification을\n",
    "## 구현해 보아요!!\n",
    "import tensorflow as tf\n",
    "\n",
    "# 1. training data set, test data set\n",
    "x_data = [[10,7,8,5],\n",
    "          [8,8,9,4],\n",
    "          [7,8,2,3],\n",
    "          [6,3,9,3],\n",
    "          [7,5,7,4],\n",
    "          [3,5,6,2],\n",
    "          [2,4,3,1]]\n",
    "y_data = [[1,0,0],\n",
    "          [1,0,0],\n",
    "          [0,1,0],\n",
    "          [0,1,0],\n",
    "          [0,1,0],\n",
    "          [0,0,1],\n",
    "          [0,0,1]]\n",
    "\n",
    "# 2. placeholder\n",
    "X = tf.placeholder(shape=[None,4], dtype=tf.float32)\n",
    "Y = tf.placeholder(shape=[None,3], dtype=tf.float32)\n",
    "\n",
    "# 3. Weight & bias\n",
    "W = tf.Variable(tf.random_normal([4,3]), name=\"weight\")\n",
    "b = tf.Variable(tf.random_normal([3]), name=\"bias\")\n",
    "\n",
    "# 4. Hypothesis\n",
    "logit = tf.matmul(X,W) + b\n",
    "H = tf.nn.softmax(logit)\n",
    "\n",
    "# 5. cost function\n",
    "cost = tf.reduce_mean(tf.nn.softmax_cross_entropy_with_logits_v2(logits=logit,\n",
    "                                                                labels=Y))\n",
    "# 6. train\n",
    "train = tf.train.GradientDescentOptimizer(learning_rate=0.01).minimize(cost)\n",
    "\n",
    "# 7. session,초기화\n",
    "sess = tf.Session()\n",
    "sess.run(tf.global_variables_initializer())\n",
    "\n",
    "# 8. 학습\n",
    "for step in range(3000):\n",
    "    tmp_train, cost_val = sess.run([train,cost],\n",
    "                                  feed_dict={X:x_data,\n",
    "                                             Y:y_data})\n",
    "    if step % 300 == 0:\n",
    "        print(\"cost 값은 : {}\".format(cost_val))\n",
    "\n",
    "# prediction\n",
    "print(sess.run(H, feed_dict={X:[[10,8,9,4]]}))\n",
    "# 9. accuracy 측정\n",
    "predict = tf.argmax(H,axis=1)\n",
    "correct = tf.equal(predict,tf.argmax(Y,axis=1))\n",
    "accuracy = tf.reduce_mean(tf.cast(correct,dtype=tf.float32))\n",
    "print(sess.run(accuracy, feed_dict={X:x_data,\n",
    "                                    Y:y_data}))\n"
   ]
  },
  {
   "cell_type": "code",
   "execution_count": 12,
   "metadata": {},
   "outputs": [
    {
     "name": "stdout",
     "output_type": "stream",
     "text": [
      "Extracting ./data/mnist\\train-images-idx3-ubyte.gz\n",
      "Extracting ./data/mnist\\train-labels-idx1-ubyte.gz\n",
      "Extracting ./data/mnist\\t10k-images-idx3-ubyte.gz\n",
      "Extracting ./data/mnist\\t10k-labels-idx1-ubyte.gz\n",
      "cost값은 : 1.1387383937835693\n",
      "cost값은 : 1.0957621335983276\n",
      "cost값은 : 0.8735387921333313\n",
      "cost값은 : 0.646654486656189\n",
      "cost값은 : 0.34171009063720703\n",
      "cost값은 : 0.3566572070121765\n",
      "cost값은 : 0.31542420387268066\n",
      "0.8965\n"
     ]
    }
   ],
   "source": [
    "## MNIST\n",
    "## Kaggle에도 data가 있고 tensorflow안에도 sample로 데이터가\n",
    "## 포함되어 있어요!\n",
    "import tensorflow as tf\n",
    "from tensorflow.examples.tutorials.mnist import input_data\n",
    "import matplotlib.pyplot as plt\n",
    "import numpy as np\n",
    "\n",
    "# Data Loading & train data set, test data set\n",
    "mnist = input_data.read_data_sets(\"./data/mnist\", one_hot=True)\n",
    "\n",
    "# placeholder\n",
    "X = tf.placeholder(shape=[None,784], dtype=tf.float32)\n",
    "Y = tf.placeholder(shape=[None,10], dtype=tf.float32)\n",
    "\n",
    "# Weight & bias\n",
    "W = tf.Variable(tf.random_normal([784,10]), name=\"weight\")\n",
    "b = tf.Variable(tf.random_normal([10]), name=\"bias\")\n",
    "\n",
    "# Hypothesis\n",
    "logit = tf.matmul(X,W) + b\n",
    "H = tf.nn.softmax(logit)\n",
    "\n",
    "# cost function(loss function)\n",
    "cost = tf.reduce_mean(tf.nn.softmax_cross_entropy_with_logits_v2(logits=logit,\n",
    "                                                                labels=Y))\n",
    "\n",
    "# train\n",
    "train = tf.train.GradientDescentOptimizer(learning_rate=0.1).minimize(cost)\n",
    "\n",
    "# session,초기화\n",
    "sess = tf.Session()\n",
    "sess.run(tf.global_variables_initializer())\n",
    "\n",
    "# 학습\n",
    "# epoch : 1 epoch은 traing data를 이용해서 1번 학습하는 것.\n",
    "train_epoch = 20\n",
    "batch_size = 100\n",
    "\n",
    "for step in range(train_epoch):\n",
    "    num_of_iter = int(mnist.train.num_examples/batch_size)\n",
    "    \n",
    "    for i in range(num_of_iter):\n",
    "        batch_x, batch_y = mnist.train.next_batch(batch_size)\n",
    "        tmp_train, cost_val = sess.run([train,cost],\n",
    "                                       feed_dict={X:batch_x,\n",
    "                                                  Y:batch_y})\n",
    "    if step % 3 == 0:\n",
    "        print(\"cost값은 : {}\".format(cost_val))\n",
    "        \n",
    "# 정확도 측정\n",
    "predict = tf.argmax(H, axis=1)\n",
    "correct = tf.equal(predict, tf.argmax(Y,axis=1))\n",
    "accuracy = tf.reduce_mean(tf.cast(correct, dtype=tf.float32))\n",
    "\n",
    "print(sess.run(accuracy, feed_dict={X:mnist.test.images,\n",
    "                                    Y:mnist.test.labels}))\n",
    "\n"
   ]
  }
 ],
 "metadata": {
  "kernelspec": {
   "display_name": "Python [conda env:data_env] *",
   "language": "python",
   "name": "conda-env-data_env-py"
  },
  "language_info": {
   "codemirror_mode": {
    "name": "ipython",
    "version": 3
   },
   "file_extension": ".py",
   "mimetype": "text/x-python",
   "name": "python",
   "nbconvert_exporter": "python",
   "pygments_lexer": "ipython3",
   "version": "3.6.10"
  }
 },
 "nbformat": 4,
 "nbformat_minor": 4
}

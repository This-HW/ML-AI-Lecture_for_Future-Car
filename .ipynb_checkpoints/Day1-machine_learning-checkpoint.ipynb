{
 "cells": [
  {
   "cell_type": "markdown",
   "metadata": {},
   "source": [
    "# Day1, Machine Learning\n",
    "---\n",
    "## Machine Learing 개념\n",
    "1. 1960부터 나온 개념\n",
    "2. explicit program으로 해결할 수 없는 문제를 해결하기 위해서 생겨났다.\n",
    "\n",
    "## Machine Learning 분류\n",
    "1. 지도학습 (Supervised Learning)\n",
    "    * Linear regression\n",
    "    * Logistic regression ( = Binary classification )\n",
    "    * Multinomial regression\n",
    "2. 비지도학습 (Unsupervised Learning)\n",
    "3. 강화학습\n",
    "\n",
    "### Supervised Learing\n",
    "- Label화 한 데이터를 통해 학습\n",
    "\n",
    "### Unsupervised Learning\n",
    "- Label화 되지 않은 데이터를 통해 학습\n",
    "- News Grouping 같은 Case\n",
    "- 데이터를 통해 스스로 학습\n",
    "\n",
    "### Unsupervised Learning\n",
    "- 각 경우의 수를 점수로 계산한다.\n",
    "- 가장 좋은 점수의 경우를 다음 학습에 반영한다.\n",
    "\n",
    "### Machine의 일반적인 응용\n",
    "- 이미지 검색\n",
    "- 고객등급 예측\n",
    "- 도난 신용카드 판별\n",
    "- 시험 성적 예측\n",
    "- 예상 매출액 산출"
   ]
  },
  {
   "cell_type": "code",
   "execution_count": null,
   "metadata": {},
   "outputs": [],
   "source": []
  }
 ],
 "metadata": {
  "kernelspec": {
   "display_name": "Python [conda env:data_env] *",
   "language": "python",
   "name": "conda-env-data_env-py"
  },
  "language_info": {
   "codemirror_mode": {
    "name": "ipython",
    "version": 3
   },
   "file_extension": ".py",
   "mimetype": "text/x-python",
   "name": "python",
   "nbconvert_exporter": "python",
   "pygments_lexer": "ipython3",
   "version": "3.6.10"
  }
 },
 "nbformat": 4,
 "nbformat_minor": 4
}
